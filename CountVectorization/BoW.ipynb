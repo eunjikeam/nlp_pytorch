{
 "cells": [
  {
   "cell_type": "code",
   "execution_count": 1,
   "metadata": {},
   "outputs": [],
   "source": [
    "import numpy as np"
   ]
  },
  {
   "cell_type": "code",
   "execution_count": 2,
   "metadata": {},
   "outputs": [],
   "source": [
    "def BoW(sentence, word_dict):\n",
    "    token = sentence.split() # split sentence\n",
    "    bow = list(np.zeros(len(word_dict), dtype = int)) # bag of words\n",
    "    for w in token:\n",
    "        if w not in word_dict.keys():  # out of vocabulary\n",
    "            word_dict['unknown'] = word_dict['unknown'] + 1\n",
    "        else:\n",
    "            bow[word_dict[w]] = bow[word_dict[w]] + 1\n",
    "    return bow"
   ]
  },
  {
   "cell_type": "code",
   "execution_count": 3,
   "metadata": {},
   "outputs": [
    {
     "name": "stdout",
     "output_type": "stream",
     "text": [
      "sentence :  I have a book and I like romance\n",
      "Vocabulary :  {'I': 0, 'a': 1, 'romance': 2, 'and': 3, 'book': 4, 'have': 5, 'like': 6, 'unknown': 7}\n",
      "BoW of sentence :  [2, 1, 1, 1, 1, 1, 1, 0]\n"
     ]
    }
   ],
   "source": [
    "sentence = \"I have a book and I like romance\"\n",
    "token = sentence.split()\n",
    "print('sentence : ', sentence)\n",
    "\n",
    "# create vocabulary\n",
    "word_set = list(set(token))\n",
    "word_dict = {w:i for i, w in enumerate(word_set)}\n",
    "word_dict['unknown'] = len(word_dict)\n",
    "print('Vocabulary : ', word_dict)\n",
    "\n",
    "#BoW\n",
    "print('BoW of sentence : ', BoW(sentence, word_dict))"
   ]
  },
  {
   "cell_type": "code",
   "execution_count": null,
   "metadata": {},
   "outputs": [],
   "source": []
  }
 ],
 "metadata": {
  "kernelspec": {
   "display_name": "Python 3",
   "language": "python",
   "name": "python3"
  },
  "language_info": {
   "codemirror_mode": {
    "name": "ipython",
    "version": 3
   },
   "file_extension": ".py",
   "mimetype": "text/x-python",
   "name": "python",
   "nbconvert_exporter": "python",
   "pygments_lexer": "ipython3",
   "version": "3.7.4"
  }
 },
 "nbformat": 4,
 "nbformat_minor": 2
}
