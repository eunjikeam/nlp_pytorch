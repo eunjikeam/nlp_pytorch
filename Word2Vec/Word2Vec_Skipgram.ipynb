{
 "cells": [
  {
   "cell_type": "markdown",
   "metadata": {},
   "source": [
    "## Word2Vec Skip-Gram"
   ]
  },
  {
   "cell_type": "code",
   "execution_count": 1,
   "metadata": {},
   "outputs": [],
   "source": [
    "import numpy as np\n",
    "import matplotlib.pyplot as plt\n",
    "\n",
    "import torch\n",
    "import torch.nn as nn\n",
    "import torch.optim as optim"
   ]
  },
  {
   "cell_type": "code",
   "execution_count": 2,
   "metadata": {},
   "outputs": [],
   "source": [
    "def one_hot_encoding(word, word_dict):\n",
    "    return np.eye(len(word_dict))[word_dict[word]]"
   ]
  },
  {
   "cell_type": "code",
   "execution_count": 3,
   "metadata": {},
   "outputs": [],
   "source": [
    "def get_batch(dataset,batch_size):\n",
    "    inputs = []\n",
    "    labels = []\n",
    "    random_index = np.random.choice(range(len(dataset)), batch_size, replace = False)\n",
    "    \n",
    "    for i in random_index:\n",
    "        inputs.append(dataset[i][0])\n",
    "        labels.append(dataset[i][1])\n",
    "        \n",
    "    return inputs, labels"
   ]
  },
  {
   "cell_type": "code",
   "execution_count": 4,
   "metadata": {},
   "outputs": [],
   "source": [
    "# Model\n",
    "class SkipGram(nn.Module):\n",
    "    def __init__(self, voc_size, embedding_size):\n",
    "        super(SkipGram, self).__init__()\n",
    "        self.W = nn.Linear(voc_size, embedding_size, bias = False)\n",
    "        self.W_p = nn.Linear(embedding_size, voc_size, bias = False)\n",
    "    \n",
    "    def forward(self, X):\n",
    "        # [batch_size, voc_size]\n",
    "        p_layer = self.W(X) # projection_layer : [batch_size,embedding_size]\n",
    "        output = self.W_p(p_layer) # [batch_size, voc_size]\n",
    "        return output"
   ]
  },
  {
   "cell_type": "code",
   "execution_count": 5,
   "metadata": {},
   "outputs": [],
   "source": [
    "corpus = [\n",
    "    'drink cold milk',\n",
    "    'drink cold water',\n",
    "    'drink cold cola',\n",
    "    'drink sweet juice',\n",
    "    'drink sweet cola',\n",
    "    'eat delicious bacon',\n",
    "    'eat sweet mango',\n",
    "    'eat delicious cherry',\n",
    "    'eat sweet apple',\n",
    "    'juice with sugar',\n",
    "    'cola with sugar',\n",
    "    'mango is fruit',\n",
    "    'apple is fruit',\n",
    "    'cherry is fruit',\n",
    "    'Berlin is Germany',\n",
    "    'Boston is USA',\n",
    "    'Mercedes from Germany',\n",
    "    'Mercedes is car',\n",
    "    'Ford from USA',\n",
    "    'Ford is a car'\n",
    "]"
   ]
  },
  {
   "cell_type": "code",
   "execution_count": 6,
   "metadata": {},
   "outputs": [],
   "source": [
    "word_list = ' '.join(corpus).split()\n",
    "word_set = list(set(word_list))\n",
    "word_dict = {w:i for i, w in enumerate(word_set)}"
   ]
  },
  {
   "cell_type": "code",
   "execution_count": 7,
   "metadata": {},
   "outputs": [
    {
     "data": {
      "text/plain": [
       "{'apple': 0,\n",
       " 'delicious': 1,\n",
       " 'from': 2,\n",
       " 'cold': 3,\n",
       " 'with': 4,\n",
       " 'bacon': 5,\n",
       " 'is': 6,\n",
       " 'juice': 7,\n",
       " 'USA': 8,\n",
       " 'Germany': 9,\n",
       " 'milk': 10,\n",
       " 'Berlin': 11,\n",
       " 'mango': 12,\n",
       " 'sweet': 13,\n",
       " 'Mercedes': 14,\n",
       " 'Ford': 15,\n",
       " 'fruit': 16,\n",
       " 'Boston': 17,\n",
       " 'cherry': 18,\n",
       " 'eat': 19,\n",
       " 'car': 20,\n",
       " 'drink': 21,\n",
       " 'cola': 22,\n",
       " 'sugar': 23,\n",
       " 'water': 24}"
      ]
     },
     "execution_count": 7,
     "metadata": {},
     "output_type": "execute_result"
    }
   ],
   "source": [
    "word_dict"
   ]
  },
  {
   "cell_type": "code",
   "execution_count": 10,
   "metadata": {},
   "outputs": [],
   "source": [
    "window_size = 3\n",
    "\n",
    "dataset = []\n",
    "for i in range(window_size, len(word_list) - window_size):\n",
    "    context = [word_list[i-w] for w in range(window_size, 0, -1)] + [word_list[i+w] for w in range(1,window_size+1)]\n",
    "    target = word_dict[word_list[i]]\n",
    "    for t in context:\n",
    "        dataset.append([one_hot_encoding(word_list[i], word_dict), target])"
   ]
  },
  {
   "cell_type": "code",
   "execution_count": 11,
   "metadata": {},
   "outputs": [
    {
     "data": {
      "text/plain": [
       "[[array([0., 0., 0., 0., 0., 0., 0., 0., 0., 0., 0., 0., 0., 0., 0., 0., 0.,\n",
       "         0., 0., 0., 0., 1., 0., 0., 0.]), 21],\n",
       " [array([0., 0., 0., 0., 0., 0., 0., 0., 0., 0., 0., 0., 0., 0., 0., 0., 0.,\n",
       "         0., 0., 0., 0., 1., 0., 0., 0.]), 21],\n",
       " [array([0., 0., 0., 0., 0., 0., 0., 0., 0., 0., 0., 0., 0., 0., 0., 0., 0.,\n",
       "         0., 0., 0., 0., 1., 0., 0., 0.]), 21]]"
      ]
     },
     "execution_count": 11,
     "metadata": {},
     "output_type": "execute_result"
    }
   ],
   "source": [
    "dataset[:3]"
   ]
  },
  {
   "cell_type": "code",
   "execution_count": 16,
   "metadata": {},
   "outputs": [],
   "source": [
    "batch_size = 10\n",
    "voc_size = len(word_dict)\n",
    "embedding_size = 10\n",
    "epochs = 10000"
   ]
  },
  {
   "cell_type": "code",
   "execution_count": 17,
   "metadata": {},
   "outputs": [
    {
     "name": "stdout",
     "output_type": "stream",
     "text": [
      "Epoch : 1000/10000, cost = 0.457806\n",
      "Epoch : 2000/10000, cost = 0.066339\n",
      "Epoch : 3000/10000, cost = 0.014759\n",
      "Epoch : 4000/10000, cost = 0.007111\n",
      "Epoch : 5000/10000, cost = 0.002545\n",
      "Epoch : 6000/10000, cost = 0.001284\n",
      "Epoch : 7000/10000, cost = 0.000862\n",
      "Epoch : 8000/10000, cost = 0.000507\n",
      "Epoch : 9000/10000, cost = 0.000291\n",
      "Epoch : 10000/10000, cost = 0.000131\n"
     ]
    }
   ],
   "source": [
    "model = SkipGram(voc_size, embedding_size)\n",
    "criterion = nn.CrossEntropyLoss()\n",
    "optimizer = optim.Adam(model.parameters(), lr=0.001)\n",
    "\n",
    "# train\n",
    "for epoch in range(epochs):\n",
    "    input_batch, label_batch = get_batch(dataset, batch_size)\n",
    "    input_batch = torch.Tensor(input_batch)\n",
    "    label_batch = torch.LongTensor(label_batch)\n",
    "    \n",
    "    optimizer.zero_grad()\n",
    "    output = model(input_batch)\n",
    "    \n",
    "    loss = criterion(output, label_batch)\n",
    "    loss.backward()\n",
    "    optimizer.step()\n",
    "    \n",
    "    if (epoch+1) % 1000 == 0:\n",
    "        print(\"Epoch : {}/{}, cost = {:.6f}\".format(epoch+1, epochs, loss))"
   ]
  },
  {
   "cell_type": "code",
   "execution_count": 18,
   "metadata": {},
   "outputs": [
    {
     "data": {
      "text/plain": [
       "torch.Size([10, 25])"
      ]
     },
     "execution_count": 18,
     "metadata": {},
     "output_type": "execute_result"
    }
   ],
   "source": [
    "W, W_ = model.parameters()\n",
    "W.shape"
   ]
  },
  {
   "cell_type": "code",
   "execution_count": 20,
   "metadata": {},
   "outputs": [
    {
     "data": {
      "image/png": "[encoded data removed]",
      "text/plain": [
       "<Figure size 864x576 with 1 Axes>"
      ]
     },
     "metadata": {
      "needs_background": "light"
     },
     "output_type": "display_data"
    }
   ],
   "source": [
    "plt.figure(figsize = [12, 8])\n",
    "for i, label in enumerate(word_dict):\n",
    "    x, y = W[1][i].item(), W[2][i].item()\n",
    "    plt.scatter(x, y)\n",
    "    plt.annotate(label, xy=(x, y), xytext=(5, 2), textcoords='offset points', ha='right', va='bottom')\n",
    "plt.show()"
   ]
  },
  {
   "cell_type": "code",
   "execution_count": null,
   "metadata": {},
   "outputs": [],
   "source": []
  }
 ],
 "metadata": {
  "kernelspec": {
   "display_name": "Python 3",
   "language": "python",
   "name": "python3"
  },
  "language_info": {
   "codemirror_mode": {
    "name": "ipython",
    "version": 3
   },
   "file_extension": ".py",
   "mimetype": "text/x-python",
   "name": "python",
   "nbconvert_exporter": "python",
   "pygments_lexer": "ipython3",
   "version": "3.7.4"
  }
 },
 "nbformat": 4,
 "nbformat_minor": 2
}
