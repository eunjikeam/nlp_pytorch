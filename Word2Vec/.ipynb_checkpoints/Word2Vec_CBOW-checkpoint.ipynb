{
 "cells": [
  {
   "cell_type": "markdown",
   "metadata": {},
   "source": [
    "## Word2Vec CBOW"
   ]
  },
  {
   "cell_type": "code",
   "execution_count": 19,
   "metadata": {},
   "outputs": [],
   "source": [
    "import numpy as np\n",
    "import matplotlib.pyplot as plt\n",
    "\n",
    "import torch\n",
    "import torch.nn as nn\n",
    "import torch.optim as optim"
   ]
  },
  {
   "cell_type": "code",
   "execution_count": 20,
   "metadata": {},
   "outputs": [],
   "source": [
    "def one_hot_encoding(word, word_dict):\n",
    "    return np.eye(len(word_dict))[word_dict[word]]"
   ]
  },
  {
   "cell_type": "code",
   "execution_count": 21,
   "metadata": {},
   "outputs": [],
   "source": [
    "def get_batch(dataset, batch_size):\n",
    "    inputs = []\n",
    "    labels = []\n",
    "    random_index = np.random.choice(range(len(dataset)), batch_size, replace = False)\n",
    "    \n",
    "    for i in random_index:\n",
    "        inputs.append(dataset[i][0])\n",
    "        labels.append(dataset[i][1])\n",
    "        \n",
    "    return inputs, labels"
   ]
  },
  {
   "cell_type": "code",
   "execution_count": 22,
   "metadata": {},
   "outputs": [],
   "source": [
    "# Model\n",
    "class CBOW(nn.Module):\n",
    "    def __init__(self, voc_size, embedding_size):\n",
    "        super(CBOW, self).__init__()\n",
    "        self.W = nn.Embedding(voc_size, embedding_size)\n",
    "        self.WT = nn.Linear(embedding_size, voc_size, bias = False)\n",
    "    \n",
    "    def forward(self, X):\n",
    "        # [batch_size, window_size*2]\n",
    "        # One_hot_encoding : [batch_size, window_size*2, voc_size]\n",
    "        p_layer = self.W(X) # projection_layer : [batch_size, window_size*2, embedding_size]\n",
    "        p_layer = p_layer.mean(dim = 1) # mean_Weight = [batch_size, embedding_size]\n",
    "        output = self.WT(p_layer)\n",
    "        return output"
   ]
  },
  {
   "cell_type": "code",
   "execution_count": 23,
   "metadata": {},
   "outputs": [],
   "source": [
    "corpus = [\n",
    "    'drink cold milk',\n",
    "    'drink cold water',\n",
    "    'drink cold cola',\n",
    "    'drink sweet juice',\n",
    "    'drink sweet cola',\n",
    "    'eat delicious bacon',\n",
    "    'eat sweet mango',\n",
    "    'eat delicious cherry',\n",
    "    'eat sweet apple',\n",
    "    'juice with sugar',\n",
    "    'cola with sugar',\n",
    "    'mango is fruit',\n",
    "    'apple is fruit',\n",
    "    'cherry is fruit',\n",
    "    'Berlin is Germany',\n",
    "    'Boston is USA',\n",
    "    'Mercedes from Germany',\n",
    "    'Mercedes is car',\n",
    "    'Ford from USA',\n",
    "    'Ford is car'\n",
    "]"
   ]
  },
  {
   "cell_type": "code",
   "execution_count": 24,
   "metadata": {
    "scrolled": true
   },
   "outputs": [],
   "source": [
    "word_list = ' '.join(corpus).split()\n",
    "word_set = list(set(word_list))\n",
    "word_dict = {w:i for i, w in enumerate(word_set)}"
   ]
  },
  {
   "cell_type": "code",
   "execution_count": 35,
   "metadata": {},
   "outputs": [],
   "source": [
    "window_size = 2\n",
    "\n",
    "dataset = []\n",
    "for i in range(window_size,len(word_list)-window_size):\n",
    "    context = [word_dict[word_list[i-ws]] for ws in range(window_size,0, -1)] + \\\n",
    "    [word_dict[word_list[i+ws]] for ws in range(1,window_size+1)] # right context\n",
    "    target = word_dict[word_list[i]]\n",
    "    dataset.append([context, target])"
   ]
  },
  {
   "cell_type": "code",
   "execution_count": 26,
   "metadata": {},
   "outputs": [
    {
     "data": {
      "text/plain": [
       "[[[19, 6, 19, 6], 24],\n",
       " [[6, 24, 6, 17], 19],\n",
       " [[24, 19, 17, 19], 6],\n",
       " [[19, 6, 19, 6], 17],\n",
       " [[6, 17, 6, 18], 19]]"
      ]
     },
     "execution_count": 26,
     "metadata": {},
     "output_type": "execute_result"
    }
   ],
   "source": [
    "dataset[:5]"
   ]
  },
  {
   "cell_type": "code",
   "execution_count": 27,
   "metadata": {},
   "outputs": [],
   "source": [
    "batch_size = 10\n",
    "voc_size = len(word_dict)\n",
    "embedding_size = 2\n",
    "epochs = 10000"
   ]
  },
  {
   "cell_type": "code",
   "execution_count": 28,
   "metadata": {},
   "outputs": [
    {
     "name": "stdout",
     "output_type": "stream",
     "text": [
      "Epoch : 1000/10000, cost = 2.932708\n",
      "Epoch : 2000/10000, cost = 2.499126\n",
      "Epoch : 3000/10000, cost = 1.727425\n",
      "Epoch : 4000/10000, cost = 1.736222\n",
      "Epoch : 5000/10000, cost = 1.469977\n",
      "Epoch : 6000/10000, cost = 1.292414\n",
      "Epoch : 7000/10000, cost = 1.633043\n",
      "Epoch : 8000/10000, cost = 1.274899\n",
      "Epoch : 9000/10000, cost = 1.765532\n",
      "Epoch : 10000/10000, cost = 1.256177\n"
     ]
    }
   ],
   "source": [
    "model = CBOW(voc_size, embedding_size)\n",
    "criterion = nn.CrossEntropyLoss()\n",
    "optimizer = optim.Adam(model.parameters(), lr=0.001)\n",
    "\n",
    "# train\n",
    "for epoch in range(epochs):\n",
    "    input_batch, label_batch = get_batch(dataset, batch_size)\n",
    "    input_batch = torch.LongTensor(input_batch)\n",
    "    label_batch = torch.LongTensor(label_batch)\n",
    "    \n",
    "    optimizer.zero_grad()\n",
    "    output = model(input_batch)\n",
    "    \n",
    "    loss = criterion(output, label_batch)\n",
    "    loss.backward()\n",
    "    optimizer.step()\n",
    "    \n",
    "    if (epoch+1) % 1000 == 0:\n",
    "        print(\"Epoch : {}/{}, cost = {:.6f}\".format(epoch+1, epochs, loss))"
   ]
  },
  {
   "cell_type": "code",
   "execution_count": 29,
   "metadata": {},
   "outputs": [],
   "source": [
    "W, WT = model.parameters()"
   ]
  },
  {
   "cell_type": "code",
   "execution_count": 30,
   "metadata": {},
   "outputs": [
    {
     "data": {
      "text/plain": [
       "torch.Size([25, 2])"
      ]
     },
     "execution_count": 30,
     "metadata": {},
     "output_type": "execute_result"
    }
   ],
   "source": [
    "W.shape  # [voc_size, embedding_size]"
   ]
  },
  {
   "cell_type": "code",
   "execution_count": 32,
   "metadata": {
    "scrolled": false
   },
   "outputs": [
    {
     "data": {
      "image/png": "[encoded data removed]",
      "text/plain": [
       "<Figure size 864x576 with 1 Axes>"
      ]
     },
     "metadata": {
      "needs_background": "light"
     },
     "output_type": "display_data"
    }
   ],
   "source": [
    "plt.figure(figsize = [12, 8])\n",
    "for i, label in enumerate(word_dict):\n",
    "    x, y = W[i][0].item(), W[i][1].item()\n",
    "    plt.scatter(x, y)\n",
    "    plt.annotate(label, xy=(x, y), xytext=(5, 2), textcoords='offset points', ha='right', va='bottom')\n",
    "plt.show()"
   ]
  },
  {
   "cell_type": "code",
   "execution_count": null,
   "metadata": {},
   "outputs": [],
   "source": []
  }
 ],
 "metadata": {
  "kernelspec": {
   "display_name": "Python 3",
   "language": "python",
   "name": "python3"
  },
  "language_info": {
   "codemirror_mode": {
    "name": "ipython",
    "version": 3
   },
   "file_extension": ".py",
   "mimetype": "text/x-python",
   "name": "python",
   "nbconvert_exporter": "python",
   "pygments_lexer": "ipython3",
   "version": "3.7.4"
  }
 },
 "nbformat": 4,
 "nbformat_minor": 2
}
